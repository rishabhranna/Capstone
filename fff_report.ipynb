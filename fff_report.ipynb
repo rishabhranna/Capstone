{
 "cells": [
  {
   "cell_type": "markdown",
   "metadata": {},
   "source": [
    "## Introduction/Business Problem "
   ]
  },
  {
   "cell_type": "markdown",
   "metadata": {},
   "source": [
    "College students and office goers often get perplexed while finding precise locations for recreational purposes in CyberCity,DelhiNCR during the course of weekends.So, let's try to suggest apt happening locations in CyberCity. "
   ]
  },
  {
   "cell_type": "markdown",
   "metadata": {},
   "source": [
    "## Data Acquisition And Cleaning"
   ]
  },
  {
   "cell_type": "markdown",
   "metadata": {},
   "source": [
    "The geolocation coordinates of cybercity, Foursquare API, libraries like pandas, numpy,sklearn,matplotlib, etc.are required"
   ]
  },
  {
   "cell_type": "markdown",
   "metadata": {},
   "source": [
    "Data downloaded or scraped from multiple sources were combined into one table. There were a\n",
    "lot of missing values from previous visits, because of lack of record keeping.In case of Phase 3\n",
    "SodaBottleOpenerWalaWhat: One of Delhi’s favourite Parsi restaurants\n",
    "Why We Love It: Authenticity, their Mutton Berry Pulao, and the fact that they provide equal employment opportunities to differently-abled individuals.\n",
    "\n",
    "Made In Punjab\n",
    "What: A North Indian restaurant\n",
    "\n",
    "CASUAL DINING\n",
    "Made In Punjab\n",
    "\n",
    "Panchavati Gaurav\n",
    "What Is It: A pure-veg restaurant serving Gujarati and Rajasthani cuisine\n",
    "\n",
    "Why We Love It: For easy access to the ultimate comfort food, khichri.\n",
    "\n",
    "Nando's\n",
    "What Is It: With over 1,000 Nando’s outlets across the world, of course we can count on having one in Cyber Hub.\n",
    "\n",
    "Why We Love It: Peri Peri Chicken and Chicken Wings\n",
    "\n",
    "\n",
    "Pita Pit\n",
    "What Is It: A joint that churns budget-friendly pita pockets and shawarma.\n",
    "\n",
    "Why We Love It: For being healthy as well as easy on the pocket\n",
    "\n",
    "Kebab Express\n",
    "What Is It: A kebab joint that’s great for takeaway meals.\n",
    "\n",
    "Why We Love It: It’s perfect for a quick Dal Makhani fix.\n",
    "\n",
    "Burma Burma\n",
    "What Is It: The only Burmese restaurant in Cyber Hub\n",
    "\n",
    "Why We Love It: Despite their all-vegetarian menu, we don’t miss meat at all. Yep, the food is that good.\n",
    "\n",
    "\n",
    "Dhaba - Estd 1986 Delhi\n",
    "What Is It: Dhaba-style food, with a hint of 5-star pizzazz\n",
    "\n",
    "Why We Love It: For their melt-in-the-mouth Galouti kebabs and a tall glass of Lassi.\n",
    "\n",
    "\n",
    "Oh! Calcutta\n",
    "What Is It: Looking to familiarise yourself with Bengali cuisine? This is the restaurant to go to.\n",
    "\n",
    "Why We Love It: For their buffet spread.\n",
    "\n",
    "\n",
    "\n",
    "Italiano\n",
    "What Is It: An easy-breezy Italian restaurant that’s great for a mid-range meal.\n",
    "\n",
    "Why We Love It: Fresh pasta and a big slice of Tiramisu.\n",
    "\n",
    "\n",
    "\n",
    "Cafe Delhi Heights\n",
    "What Is It: A Delhi-themed cafe that celebrates big, bold flavours.\n",
    "\n",
    "Why We Love It:  For their super popular Juicy Lucy burger and breakfast spread.\n",
    "\n",
    "Not Just Paranthas\n",
    "What Is It: Despite its name, parathas are the star at this restaurant.\n",
    "\n",
    "Why We Love It: For Chur Chur Naan and chuskis.\n",
    "\n",
    "image-map-default\n",
    "Price for two: ₹ 900\n",
    "+911244909193 (copy number)\n",
    "See more details\n",
    "\n",
    "Raasta\n",
    "What Is It: A super chill bar, with good vibes and great music.\n",
    "\n",
    "Why We Love It: Their Ladies Nights (organised every Sunday), as well as their Karaoke sessions!\n",
    "\n",
    "Soi7\n",
    "What Is It: A microbrewery that does both beer and Asian fare right.\n",
    "\n",
    "Why We Love It: For their four distinct brews and gig nights.\n",
    "\n",
    "The Wine Company\n",
    "What Is It: Always up for wine? This is where to go.\n",
    "\n",
    "Why We Love It: Wine for every budget, interesting Sangria options (like Peach Melba) and Bacon Chorizo Risotto.\n",
    "\n",
    "Hard Rock Cafe\n",
    "What Is It: A bit of a legend when it comes to bars in the city, Hard Rock Cafe has been around for a long, long time.\n",
    "\n",
    "Why We Love It: Hard Rock Cafe still hosts super fun gigs and offers tempting happy hour deals from time to time.\n",
    "\n",
    "PUBS\n",
    "Hard Rock Cafe\n",
    "Cyber Hub, Unit 4/5/104/105, DLF Cyber City, Gurgaon\n",
    "\n",
    "\n",
    "\n",
    "Farzi Cafe\n",
    "What Is It: Delicious food, presented beautifully, with the added twist of molecular gastronomy.\n",
    "\n",
    "Why We Love It: For the Britannia Cheesecake & Duck Samosas.\n",
    "\n",
    "\n",
    "The Beer Cafe\n",
    "What Is It: This watering hole serves 50 different beers from 19 different countries.\n",
    "\n",
    "Why We Love It: So. Much. Beer.\n",
    "\n",
    "In case of Phase4\n",
    "\n",
    "Sutra Gastropub\n",
    "What Is It: A favourite with Cyber Hub regulars, Sutra Gastropub is great for a laid-back evening.\n",
    "\n",
    "Why We Love It: Consistency – we’ve always had a good time here.\n",
    "\n",
    "Quaff\n",
    "What Is It: ‘Quaff’ means ‘to drink heartily’ and that’s exactly what you’ll end up doing at this microbrewery.\n",
    "\n",
    "Why We Love It: The wheat beer is a winner!\n",
    "\n",
    "Imperfecto\n",
    "What Is It: A casual bar with a really pretty rooftop.\n",
    "\n",
    "Why We Love It: The ambience is first-date appropriate.\n",
    "\n",
    "Theobroma\n",
    "What Is It: Originally from Mumbai, Theobroma is well-loved all over India (primarily because of their melt-in-the-mouth brownies).\n",
    "\n",
    "Why We Love It: For their breakfast offerings (croissants, pancakes and coffee!), in addition to the cakes and bakes.\n",
    "\n",
    "\n",
    "Zizo\n",
    "What Is It: A Lebanese restaurant.\n",
    "\n",
    "Why We Love It: Their use of organic ingredients, the Trio Hummus with Pita and their thin crust pizzas.\n",
    "\n",
    "In case of sector29\n",
    "Chai Point\n",
    "What Is It: A safe space for tea lovers, Chai Point is great when you’re craving a steaming cup of masala chai.\n",
    "\n",
    "Why We Love It: Chai pairs well with Vada Pav, which they do quite well too.\n",
    "\n",
    "\n",
    "\n",
    "Red Mango\n",
    "What Is It: A fro-yo place where you make your own yogurt combos and pay by weight.\n",
    "\n",
    "Why We Love It: In addition to yogurt, they also have lots of snacks on their menu (like low-cal parfaits, smoothies, and breakfast options).\n",
    "\n",
    "\n",
    "\n",
    "Krispy Kreme\n",
    "What Is It: Cyber Hub has a Krispy Kreme outlet and their doughnuts help us overcome Monday morning blues.\n",
    "\n",
    "Why We Love It: For their novelty flavours like Red Velvet & Iced Rainbow Chips doughnuts.\n",
    "\n",
    "\n",
    "\n",
    "SMAAASH\n",
    "What Is It: A virtual gaming hub.\n",
    "\n",
    "Why We Love It: For a game of twilight bowling on their UV-lit alley.\n",
    "\n",
    "\n",
    "Starbucks\n",
    "\n",
    "What Is It: Their coffee ranges from basic to extremely fancy, which means they have something for all your moods.\n",
    "\n",
    "Why We Love It: What isn’t there to love about Starbucks?\n",
    "\n",
    "IHOP\n",
    "What Is It: India’s first ever IHOP outlet is at Cyber Hub – 10 points to Gurgaon.\n",
    "\n",
    "Why We Love It: For satiating surprise pancake cravings (IHOP is open till midnight).\n",
    "Circus\n",
    "What Is It: After a successful stint in South Extension, the Circus now also has an outlet at Cyber Hub.\n",
    "\n",
    "Why We Love It: For their quirky take on street food (Palak Patta Chaat, anyone?).\n",
    "CASUAL DINING\n",
    "Circus\n",
    "\n",
    "What Is It: A garden-themed restaurant in Cyber Hub, which has the loveliest ambience we've ever seen.\n",
    "\n",
    "Why We Love It: The food here is just amazing, and they get very creative with their cocktails.\n",
    "\n",
    "\n",
    "\n",
    "Cyber Hub Social\n",
    "What Is It: Social's first and only outlet in Gurgaon.\n",
    "\n",
    "Why We Love it: It's a great place to hangout and unwind. We love their biryani, chili potato, and peach iced tea.\n",
    "\n",
    "\n",
    "\n",
    "\n",
    "Yum Yum Cha\n",
    "What Is It: A restaurant that serves delicious Pan-Asian cuisine.\n",
    "\n",
    "Why We Love It: Their sushi, baos, stone bowls, woks are the best we've ever had.\n",
    "\n",
    "\n",
    "\n",
    "Taco Bell\n",
    "What Is It: A Mexican fast-food joint.\n",
    "\n",
    "Why We Love It: This is the perfect place to go to when we're on a budget yet craving delicious food. Their loaded fries are unlike anything else we've had.\n",
    "\n",
    "\n"
   ]
  },
  {
   "cell_type": "markdown",
   "metadata": {},
   "source": [
    "## Exploratory Data Analysis"
   ]
  },
  {
   "cell_type": "markdown",
   "metadata": {},
   "source": [
    "Calculation of target variable- which in this case is the college students and the office goers, applying linear regression techniques to find relationship between locations and people frequenting them,relationship between the neighbourhoods and the weekday as well as the weekend turnout of people to them happening places and a comparison of the three happening pl;aces in the CyberCity with regards to college students as well as office goers frequenting them."
   ]
  },
  {
   "cell_type": "markdown",
   "metadata": {},
   "source": [
    "## Results"
   ]
  },
  {
   "cell_type": "markdown",
   "metadata": {},
   "source": [
    "The results of research data and analysis suggest that Sector 29 and DLF Phase3 are most frequented by visitors during the course of weekends by the target audience of college students and office goers."
   ]
  },
  {
   "cell_type": "markdown",
   "metadata": {},
   "source": [
    "## Discussions"
   ]
  },
  {
   "cell_type": "markdown",
   "metadata": {},
   "source": [
    "The observation I made is that the following two places- sector 29 and phase 3 are most frequented during weekends but phase 4 is frequented throughout the whole week.Hence, I recommend phase 4 is happening place of cybercity at any given point of time in contrast to the rest two which are happening places only during weekends."
   ]
  },
  {
   "cell_type": "markdown",
   "metadata": {},
   "source": [
    "\n",
    "## Conclusions"
   ]
  },
  {
   "cell_type": "markdown",
   "metadata": {},
   "source": [
    "Thus, happening places in case of a prime district as CyberCity are often surrounded by posh neighbourhoods that complement the increase of college student and office goers turnout during the weekends as well as during the rest of the week as in case of phase 4."
   ]
  },
  {
   "cell_type": "code",
   "execution_count": null,
   "metadata": {},
   "outputs": [],
   "source": []
  }
 ],
 "metadata": {
  "kernelspec": {
   "display_name": "Python",
   "language": "python",
   "name": "conda-env-python-py"
  },
  "language_info": {
   "codemirror_mode": {
    "name": "ipython",
    "version": 3
   },
   "file_extension": ".py",
   "mimetype": "text/x-python",
   "name": "python",
   "nbconvert_exporter": "python",
   "pygments_lexer": "ipython3",
   "version": "3.6.10"
  }
 },
 "nbformat": 4,
 "nbformat_minor": 4
}
